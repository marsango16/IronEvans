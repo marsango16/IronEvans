{
 "cells": [
  {
   "cell_type": "markdown",
   "metadata": {},
   "source": [
    "## Challenge 2: Sets\n",
    "\n",
    "There are a lot to learn about Python Sets and the information presented in the lesson is limited due to its length. To learn Python Sets in depth you are strongly encouraged to review the W3Schools tutorial on [Python Sets Examples and Methods](https://www.w3schools.com/python/python_sets.asp) before you work on this lab. Some difficult questions in this lab have their solutions in the W3Schools tutorial.\n",
    "\n",
    "#### First, import the Python `random` libary"
   ]
  },
  {
   "cell_type": "code",
   "execution_count": 3,
   "metadata": {},
   "outputs": [],
   "source": [
    "import random"
   ]
  },
  {
   "cell_type": "markdown",
   "metadata": {},
   "source": [
    "#### In the cell below, create a list named `sample_list_1` with 80 random values. \n",
    "\n",
    "Requirements:\n",
    "\n",
    "* Each value is an integer falling between 0 and 100.\n",
    "* Each value in the list is unique.\n",
    "\n",
    "Print `sample_list_1` to review its values\n",
    "\n",
    "*Hint: use `random.sample` ([reference](https://docs.python.org/3/library/random.html#random.sample)).*"
   ]
  },
  {
   "cell_type": "code",
   "execution_count": 27,
   "metadata": {},
   "outputs": [
    {
     "name": "stdout",
     "output_type": "stream",
     "text": [
      "[44, 71, 35, 98, 85, 15, 41, 58, 45, 97, 90, 30, 7, 74, 94, 86, 13, 33, 6, 60, 79, 66, 64, 92, 17, 40, 62, 84, 73, 24, 46, 34, 89, 47, 36, 55, 69, 9, 78, 16, 14, 4, 99, 0, 18, 72, 29, 76, 67, 91, 38, 56, 95, 80, 2, 54, 20, 3, 63, 32, 19, 1, 75, 12, 59, 23, 93, 21, 25, 96, 57, 26, 31, 11, 88, 53, 22, 81, 27, 65]\n"
     ]
    },
    {
     "data": {
      "text/plain": [
       "80"
      ]
     },
     "execution_count": 27,
     "metadata": {},
     "output_type": "execute_result"
    }
   ],
   "source": [
    "# Your code here\n",
    "sample_list_1=random.sample(range(100), 80)# range between 1 and 100, 100 is. exclusive\n",
    "\n",
    "print(sample_list_1)\n",
    "len(sample_list_1)"
   ]
  },
  {
   "cell_type": "markdown",
   "metadata": {},
   "source": [
    "#### Convert `sample_list_1` to a set called `set1`. Print the length of the set. Is its length still 80?"
   ]
  },
  {
   "cell_type": "code",
   "execution_count": 25,
   "metadata": {},
   "outputs": [
    {
     "name": "stdout",
     "output_type": "stream",
     "text": [
      "80\n"
     ]
    }
   ],
   "source": [
    "# Your code here\n",
    "\n",
    "set1 = sample_list_1\n",
    "\n",
    "\n",
    "print(len(set1))\n",
    "\n",
    "#Length is still 80"
   ]
  },
  {
   "cell_type": "markdown",
   "metadata": {},
   "source": [
    "#### Create another list named `sample_list_2` with 80 random values.\n",
    "\n",
    "Requirements:\n",
    "\n",
    "* Each value is an integer falling between 0 and 100.\n",
    "* The values in the list don't have to be unique.\n",
    "\n",
    "*Hint: Use a FOR loop.*"
   ]
  },
  {
   "cell_type": "code",
   "execution_count": 30,
   "metadata": {},
   "outputs": [
    {
     "name": "stdout",
     "output_type": "stream",
     "text": [
      "[32, 83, 22, 52, 9, 53, 72, 16, 95, 64, 10, 81, 29, 75, 39, 89, 80, 41, 76, 74, 6, 77, 44, 89, 19, 59, 10, 74, 59, 91, 27, 9, 20, 59, 67, 34, 73, 74, 72, 48, 48, 84, 56, 57, 79, 72, 86, 77, 99, 65, 11, 15, 51, 93, 2, 14, 12, 15, 5, 95, 26, 54, 9, 33, 57, 52, 1, 60, 26, 48, 46, 60, 48, 84, 36, 41, 28, 92, 12, 34]\n"
     ]
    },
    {
     "data": {
      "text/plain": [
       "80"
      ]
     },
     "execution_count": 30,
     "metadata": {},
     "output_type": "execute_result"
    }
   ],
   "source": [
    "# Your code here\n",
    "sample_list_2=[random.randrange(1, 100) for _ in range(80)]# range between 1 and 100, 100 is. exclusive\n",
    "print(sample_list_2)\n",
    "len(sample_list_2)\n"
   ]
  },
  {
   "cell_type": "markdown",
   "metadata": {},
   "source": [
    "#### Convert `sample_list_2` to a set called `set2`. Print the length of the set. Is its length still 80?"
   ]
  },
  {
   "cell_type": "code",
   "execution_count": 31,
   "metadata": {},
   "outputs": [
    {
     "name": "stdout",
     "output_type": "stream",
     "text": [
      "80\n"
     ]
    }
   ],
   "source": [
    "# Your code here\n",
    "\n",
    "set2 = sample_list_2\n",
    "\n",
    "\n",
    "print(len(set2))\n",
    "\n",
    "#Length is still 80"
   ]
  },
  {
   "cell_type": "markdown",
   "metadata": {},
   "source": [
    "#### Identify the elements present in `set1` but not in `set2`. Assign the elements to a new set named `set3`."
   ]
  },
  {
   "cell_type": "code",
   "execution_count": 36,
   "metadata": {},
   "outputs": [
    {
     "name": "stdout",
     "output_type": "stream",
     "text": [
      "{80, 81, 83, 84, 86, 89, 91, 92, 93, 95, 99}\n"
     ]
    }
   ],
   "source": [
    "# Your code here\n",
    "\n",
    "st2 = set(set2)\n",
    "\n",
    "inter = st2.intersection(set1)\n",
    "\n",
    "set3 = st2.difference(set1)\n",
    "print(set3)\n",
    "#{80, 81, 83, 84, 86, 89, 91, 92, 93, 95, 99}\n"
   ]
  },
  {
   "cell_type": "markdown",
   "metadata": {},
   "source": [
    "#### Identify the elements present in `set2` but not in `set1`. Assign the elements to a new set named `set4`."
   ]
  },
  {
   "cell_type": "code",
   "execution_count": 38,
   "metadata": {},
   "outputs": [
    {
     "name": "stdout",
     "output_type": "stream",
     "text": [
      "{0, 3, 4, 7, 8, 13, 17, 18, 21, 23, 24, 25, 30, 31, 35, 37, 38, 40, 42, 43, 45, 47, 49, 50, 55, 58, 61, 62, 63, 66, 68, 69, 70, 71, 78}\n"
     ]
    }
   ],
   "source": [
    "# Your code here\n",
    "st1 = set(set1)\n",
    "\n",
    "inter = st1.intersection(set2)\n",
    "\n",
    "set4 = st1.difference(set2)\n",
    "print(set4)\n",
    "#{0, 3, 4, 7, 8, 13, 17, 18, 21, 23, 24, 25, 30, 31, 35, 37, 38, 40, 42, 43, 45, 47, 49, 50, 55, 58, 61, 62, 63, 66, 68, 69, 70, 71, 78}"
   ]
  },
  {
   "cell_type": "markdown",
   "metadata": {},
   "source": [
    "#### Now Identify the elements shared between `set1` and `set2`. Assign the elements to a new set named `set5`."
   ]
  },
  {
   "cell_type": "code",
   "execution_count": 54,
   "metadata": {},
   "outputs": [
    {
     "name": "stdout",
     "output_type": "stream",
     "text": [
      "{1, 2, 5, 6, 9, 10, 11, 12, 14, 15, 16, 19, 20, 22, 26, 27, 28, 29, 32, 33, 34, 36, 39, 41, 44, 46, 48, 51, 52, 53, 54, 56, 57, 59, 60, 64, 65, 67, 72, 73, 74, 75, 76, 77, 79}\n"
     ]
    }
   ],
   "source": [
    "# Your code here\n",
    "\n",
    "#set5 =set1 and set2\n",
    "#print(set5)\n",
    "#[32, 83, 22, 52, 9, 53, 72, 16, 95, 64, 10, 81, 29, 75, 39, 89, 80, 41, 76, 74, 6, 77, 44, 89, 19, 59, 10, 74, 59, 91, 27, 9, 20, 59, 67, 34, 73, 74, 72, 48, 48, 84, 56, 57, 79, 72, 86, 77, 99, 65, 11, 15, 51, 93, 2, 14, 12, 15, 5, 95, 26, 54, 9, 33, 57, 52, 1, 60, 26, 48, 46, 60, 48, 84, 36, 41, 28, 92, 12, 34]\n",
    "set5 = st2.intersection(set1)\n",
    "print(set5)\n"
   ]
  },
  {
   "cell_type": "code",
   "execution_count": 65,
   "metadata": {},
   "outputs": [
    {
     "data": {
      "text/plain": [
       "45"
      ]
     },
     "execution_count": 65,
     "metadata": {},
     "output_type": "execute_result"
    }
   ],
   "source": [
    "len(set1)#80\n",
    "len(set2)#80\n",
    "len(set3)#11\n",
    "len(set4)#35\n",
    "len(set5)#45"
   ]
  },
  {
   "cell_type": "markdown",
   "metadata": {},
   "source": [
    "#### (Optional) What is the relationship among the following values:\n",
    "\n",
    "* len(set1)\n",
    "* len(set2)\n",
    "* len(set3)\n",
    "* len(set4)\n",
    "* len(set5)\n",
    "\n",
    "Use a formula to represent that relationship. Test your formula with Python code."
   ]
  },
  {
   "cell_type": "code",
   "execution_count": null,
   "metadata": {},
   "outputs": [],
   "source": [
    "# Your code here\n"
   ]
  },
  {
   "cell_type": "markdown",
   "metadata": {},
   "source": [
    "#### Create an empty set called `set6`."
   ]
  },
  {
   "cell_type": "code",
   "execution_count": null,
   "metadata": {},
   "outputs": [],
   "source": [
    "# Your code here\n"
   ]
  },
  {
   "cell_type": "markdown",
   "metadata": {},
   "source": [
    "#### Add `set3` and `set5` to `set6` using the Python Set `update` method."
   ]
  },
  {
   "cell_type": "code",
   "execution_count": null,
   "metadata": {},
   "outputs": [],
   "source": [
    "# Your code here\n"
   ]
  },
  {
   "cell_type": "markdown",
   "metadata": {},
   "source": [
    "#### Check if `set1` and `set6` are equal."
   ]
  },
  {
   "cell_type": "code",
   "execution_count": null,
   "metadata": {},
   "outputs": [],
   "source": [
    "# Your code here\n"
   ]
  },
  {
   "cell_type": "markdown",
   "metadata": {},
   "source": [
    "#### Check if `set1` contains `set2` using the Python Set `issubset` method. Then check if `set1` contains `set3`.*"
   ]
  },
  {
   "cell_type": "code",
   "execution_count": null,
   "metadata": {},
   "outputs": [],
   "source": [
    "# Your code here\n"
   ]
  },
  {
   "cell_type": "markdown",
   "metadata": {},
   "source": [
    "#### Using the Python Set `union` method, aggregate `set3`, `set4`, and `set5`. Then aggregate `set1` and `set2`. \n",
    "\n",
    "#### Check if the aggregated values are equal."
   ]
  },
  {
   "cell_type": "code",
   "execution_count": null,
   "metadata": {},
   "outputs": [],
   "source": [
    "# Your code here\n"
   ]
  },
  {
   "cell_type": "markdown",
   "metadata": {},
   "source": [
    "#### Using the `pop` method, remove an element from `set1`."
   ]
  },
  {
   "cell_type": "code",
   "execution_count": null,
   "metadata": {},
   "outputs": [],
   "source": [
    "# Your code here\n"
   ]
  },
  {
   "cell_type": "markdown",
   "metadata": {},
   "source": [
    "#### Remove every element in the following list from `set1` if they are present in the set. Print the remaining elements.\n",
    "\n",
    "```\n",
    "list_to_remove = [1, 9, 11, 19, 21, 29, 31, 39, 41, 49, 51, 59, 61, 69, 71, 79, 81, 89, 91, 99]\n",
    "```"
   ]
  },
  {
   "cell_type": "code",
   "execution_count": null,
   "metadata": {},
   "outputs": [],
   "source": [
    "# Your code here\n"
   ]
  }
 ],
 "metadata": {
  "kernelspec": {
   "display_name": "Python 3 (ipykernel)",
   "language": "python",
   "name": "python3"
  },
  "language_info": {
   "codemirror_mode": {
    "name": "ipython",
    "version": 3
   },
   "file_extension": ".py",
   "mimetype": "text/x-python",
   "name": "python",
   "nbconvert_exporter": "python",
   "pygments_lexer": "ipython3",
   "version": "3.9.12"
  },
  "toc": {
   "base_numbering": 1,
   "nav_menu": {},
   "number_sections": false,
   "sideBar": true,
   "skip_h1_title": false,
   "title_cell": "Table of Contents",
   "title_sidebar": "Contents",
   "toc_cell": false,
   "toc_position": {},
   "toc_section_display": true,
   "toc_window_display": false
  }
 },
 "nbformat": 4,
 "nbformat_minor": 2
}
