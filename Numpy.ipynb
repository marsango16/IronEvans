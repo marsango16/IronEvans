{
 "cells": [
  {
   "cell_type": "code",
   "execution_count": null,
   "metadata": {},
   "outputs": [],
   "source": [
    "# numpy exercises\n",
    "\n",
    "This is a collection of exercises that have been collected in the numpy mailing list, on stack overflow\n",
    "and in the numpy documentation. The goal of this collection is to offer a quick reference for both old\n",
    "and new users but also to provide a set of exercises for those who teach.\n",
    "\n",
    "\n",
    "If you find an error or think you've a better way to solve some of them, feel\n",
    "free to open an issue at <https://github.com/rougier/numpy-100>.\n",
    "File automatically generated. See the documentation to update questions/answers/hints programmatically.\n",
    "\n"
   ]
  },
  {
   "cell_type": "code",
   "execution_count": 52,
   "metadata": {},
   "outputs": [],
   "source": [
    "#### 1. Import the numpy package under the name `np` (★☆☆)\n",
    "#`hint: import … as`\n",
    "import numpy as np"
   ]
  },
  {
   "cell_type": "code",
   "execution_count": 117,
   "metadata": {},
   "outputs": [
    {
     "data": {
      "text/plain": [
       "array([0., 0., 0., 0., 0., 0., 0., 0., 0., 0.])"
      ]
     },
     "execution_count": 117,
     "metadata": {},
     "output_type": "execute_result"
    }
   ],
   "source": [
    "#### 2. Create a null vector of size 10 (★☆☆)\n",
    "#`hint: np.zeros`\n",
    "v1= np.zeros(10)\n",
    "v1"
   ]
  },
  {
   "cell_type": "code",
   "execution_count": 119,
   "metadata": {},
   "outputs": [
    {
     "name": "stdout",
     "output_type": "stream",
     "text": [
      "[0. 0. 0. 0. 1. 0. 0. 0. 0. 0.]\n"
     ]
    }
   ],
   "source": [
    "#### 3. Create a null vector of size 10 but the fifth value which is 1 (★☆☆)\n",
    "#`hint: array[4]`\n",
    "v2 = np.zeros(10)\n",
    "v2[4]= 1\n",
    "print(v2)"
   ]
  },
  {
   "cell_type": "code",
   "execution_count": 59,
   "metadata": {},
   "outputs": [
    {
     "data": {
      "text/plain": [
       "array([10, 11, 12, 13, 14, 15, 16, 17, 18, 19, 20, 21, 22, 23, 24, 25, 26,\n",
       "       27, 28, 29, 30, 31, 32, 33, 34, 35, 36, 37, 38, 39, 40, 41, 42, 43,\n",
       "       44, 45, 46, 47, 48, 49])"
      ]
     },
     "execution_count": 59,
     "metadata": {},
     "output_type": "execute_result"
    }
   ],
   "source": [
    "#### 4. Create a vector with values ranging from 10 to 49 (★☆☆)\n",
    "#`hint: arange`\n",
    "v3=np.arange(10, 50)\n",
    "v3\n"
   ]
  },
  {
   "cell_type": "code",
   "execution_count": 63,
   "metadata": {},
   "outputs": [
    {
     "data": {
      "text/plain": [
       "array([[0, 1, 2],\n",
       "       [3, 4, 5],\n",
       "       [6, 7, 8]])"
      ]
     },
     "execution_count": 63,
     "metadata": {},
     "output_type": "execute_result"
    }
   ],
   "source": [
    "#### 5. Create a 3x3 matrix with values ranging from 0 to 8 (★☆☆)\n",
    "#`hint: reshape`\n",
    "m=np.arange(0, 9).reshape(3,3)\n",
    "m"
   ]
  },
  {
   "cell_type": "code",
   "execution_count": 68,
   "metadata": {},
   "outputs": [
    {
     "name": "stdout",
     "output_type": "stream",
     "text": [
      "(array([0, 1, 4]),)\n"
     ]
    }
   ],
   "source": [
    "#### 6. Find indices of non-zero elements from [1,2,0,0,4,0] (★☆☆)\n",
    "#`hint: np.nonzero`\n",
    "A = [1,2,0,0,4,0]\n",
    "nonzeroind = np.nonzero(A) # the return is a little funny so I use the [0]\n",
    "print (nonzeroind)\n",
    "#(array([0, 1, 4]),)\n"
   ]
  },
  {
   "cell_type": "code",
   "execution_count": 120,
   "metadata": {},
   "outputs": [
    {
     "name": "stdout",
     "output_type": "stream",
     "text": [
      "[0 1 4]\n"
     ]
    }
   ],
   "source": [
    "nonzeroind2 = np.nonzero(A) [0]\n",
    "print (nonzeroind2)\n",
    "#[0 1 4]"
   ]
  },
  {
   "cell_type": "code",
   "execution_count": 71,
   "metadata": {},
   "outputs": [
    {
     "name": "stdout",
     "output_type": "stream",
     "text": [
      "3x3 matrix:\n",
      "[[1. 0. 0.]\n",
      " [0. 1. 0.]\n",
      " [0. 0. 1.]]\n"
     ]
    }
   ],
   "source": [
    "#### 7. Create a 3x3 identity matrix (★☆☆)\n",
    "#`hint: np.eye`\n",
    "idmatr=np.identity(3)\n",
    "print('3x3 matrix:')\n",
    "print(idmatr)\n",
    "\n",
    "#or\n",
    "idmatr2= np.eye(3)\n",
    "#print(idmatr2)\n"
   ]
  },
  {
   "cell_type": "code",
   "execution_count": 75,
   "metadata": {},
   "outputs": [
    {
     "name": "stdout",
     "output_type": "stream",
     "text": [
      "[[[0.750717   0.57406383 0.75164399]\n",
      "  [0.07914896 0.85938908 0.82150411]\n",
      "  [0.90987166 0.1286312  0.08178009]]\n",
      "\n",
      " [[0.13841557 0.39937871 0.42430686]\n",
      "  [0.56221838 0.12224355 0.2013995 ]\n",
      "  [0.81164435 0.46798757 0.80793821]]\n",
      "\n",
      " [[0.00742638 0.55159273 0.93193215]\n",
      "  [0.58217546 0.20609573 0.71775756]\n",
      "  [0.37898585 0.66838395 0.02931972]]]\n"
     ]
    }
   ],
   "source": [
    "#### 8. Create a 3x3x3 array with random values (★☆☆)\n",
    "#`hint: np.random.random`\n",
    "r=np.random.random((3,3,3))\n",
    "print(r)"
   ]
  },
  {
   "cell_type": "code",
   "execution_count": 81,
   "metadata": {},
   "outputs": [
    {
     "name": "stdout",
     "output_type": "stream",
     "text": [
      "[[0.39131649 0.6563432  0.64738515 0.32696819 0.17939017 0.46680988\n",
      "  0.26328104 0.35506513 0.95414397 0.46113787]\n",
      " [0.68489147 0.33622989 0.99586108 0.65876761 0.19600947 0.098184\n",
      "  0.94318057 0.94477783 0.62132838 0.0169915 ]\n",
      " [0.22553488 0.80127678 0.87545983 0.45398981 0.36552062 0.27422501\n",
      "  0.11697051 0.11574454 0.9526027  0.80862611]\n",
      " [0.16477936 0.20705005 0.65555155 0.76466422 0.81031485 0.16333769\n",
      "  0.98412829 0.22780207 0.58941543 0.58761576]\n",
      " [0.96736189 0.65766744 0.58490427 0.51877258 0.76465754 0.10605526\n",
      "  0.0020919  0.95248887 0.49865768 0.32833538]\n",
      " [0.36805326 0.80384332 0.38237021 0.77016917 0.440462   0.84407746\n",
      "  0.07620406 0.48112833 0.46684971 0.26432798]\n",
      " [0.94361474 0.90502846 0.4435963  0.09715961 0.20678315 0.27149184\n",
      "  0.48421977 0.33837711 0.77413607 0.47602661]\n",
      " [0.8703705  0.99578175 0.21983595 0.61167138 0.84750231 0.94523663\n",
      "  0.29008643 0.72704274 0.01501615 0.87914244]\n",
      " [0.06393855 0.7333954  0.99461039 0.50118978 0.20933399 0.59464358\n",
      "  0.62414998 0.66807274 0.17261174 0.89871269]\n",
      " [0.62099137 0.0435687  0.68404106 0.19608405 0.02734078 0.55095328\n",
      "  0.81331364 0.85994115 0.10352093 0.66304279]]\n",
      "Minimum and Maximum Values:\n",
      "0.0020919011832274403 0.9958610784507721\n"
     ]
    }
   ],
   "source": [
    "#### 9. Create a 10x10 array with random values and find the minimum and maximum values (★☆☆)\n",
    "#`hint: min, max`\n",
    "r2=np.random.random((10,10))\n",
    "print(r2)\n",
    "r2min, r2max = r2.min(), r2.max()\n",
    "print(\"Minimum and Maximum Values:\")\n",
    "print(r2min, r2max)"
   ]
  },
  {
   "cell_type": "code",
   "execution_count": 83,
   "metadata": {},
   "outputs": [
    {
     "name": "stdout",
     "output_type": "stream",
     "text": [
      "[[0.7543916  0.11350908 0.77536476 0.58590197 0.83538869]\n",
      " [0.43087565 0.62496445 0.55441213 0.97567127 0.75547439]\n",
      " [0.54481325 0.17403209 0.90411422 0.20583778 0.65004326]\n",
      " [0.93647185 0.22357963 0.22592354 0.85181891 0.82765503]\n",
      " [0.35170335 0.26509629 0.12738847 0.9879361  0.8353431 ]\n",
      " [0.8993916  0.51367933 0.11438483 0.05258034 0.3305821 ]]\n",
      "Mean value:\n",
      "0.5476109693872921\n"
     ]
    }
   ],
   "source": [
    "#### 10. Create a random vector of size 30 and find the mean value (★☆☆)\n",
    "#`hint: mean`\n",
    "r3=np.random.random((6,5))#np.random.random(30)\n",
    "print(r3)\n",
    "r3mean = r3.mean()\n",
    "print(\"Mean value:\")\n",
    "print(r3mean)\n",
    "\n"
   ]
  },
  {
   "cell_type": "code",
   "execution_count": 116,
   "metadata": {},
   "outputs": [
    {
     "name": "stdout",
     "output_type": "stream",
     "text": [
      "[[0 0 0 0 0]\n",
      " [1 0 0 0 0]\n",
      " [0 2 0 0 0]\n",
      " [0 0 3 0 0]\n",
      " [0 0 0 4 0]]\n"
     ]
    }
   ],
   "source": [
    "#### 11. Create a 5x5 matrix with values 1,2,3,4 just below the diagonal (★☆☆)\n",
    "#`hint: np.diag`\n",
    "m2 = np.diag([1, 2, 3, 4],-1)\n",
    "print(m2)\n",
    "\n",
    "#m3 = np.diag(1+np.arange(4),-1)\n",
    "#print (m3)\n"
   ]
  },
  {
   "cell_type": "code",
   "execution_count": 123,
   "metadata": {},
   "outputs": [
    {
     "name": "stdout",
     "output_type": "stream",
     "text": [
      "[[0.68836226 1.         0.71696908 0.84386912 0.02660461]\n",
      " [0.68706014 0.66817656 0.08627412 0.86561576 0.62547591]\n",
      " [0.08267756 0.60474098 0.48262577 0.2246953  0.        ]\n",
      " [0.36388061 0.63145131 0.32569632 0.30252101 0.76958064]\n",
      " [0.77747611 0.73553459 0.08568055 0.52234841 0.56615651]]\n"
     ]
    }
   ],
   "source": [
    "#### 12. Normalize a 5x5 random matrix (★☆☆)\n",
    "#`hint: (x -mean)/std`\n",
    "\n",
    "n = np.random.random((5,5))\n",
    "nmax, nmin = n.max(), n.min()\n",
    "N= (n-nmin)/(nmax-nmin)\n",
    "print (N)\n",
    "\n",
    "\n",
    "mean=np.mean(n)\n",
    "std=np.std(n)\n",
    "N2 = (n- mean)/std\n",
    "#print (N2)\n",
    "\n",
    "\n",
    "\n"
   ]
  },
  {
   "cell_type": "code",
   "execution_count": null,
   "metadata": {},
   "outputs": [],
   "source": [
    "#### 13. How to find common values between two arrays? (★☆☆)\n",
    "`hint: np.intersect1d`\n",
    "\n"
   ]
  },
  {
   "cell_type": "code",
   "execution_count": 127,
   "metadata": {},
   "outputs": [
    {
     "name": "stdout",
     "output_type": "stream",
     "text": [
      "[0.01574544 0.03009363 0.03991305 0.0511263  0.1190697  0.37812093\n",
      " 0.38210919 0.42667233 0.44935188 0.98657989]\n"
     ]
    }
   ],
   "source": [
    "#### 14. Create a random vector of size 10 and sort it (★★☆)\n",
    "#`hint: sort`\n",
    "r4 = np.random.random(10)\n",
    "r4.sort()\n",
    "print(r4)\n",
    "\n"
   ]
  },
  {
   "cell_type": "code",
   "execution_count": 128,
   "metadata": {},
   "outputs": [
    {
     "name": "stdout",
     "output_type": "stream",
     "text": [
      "[0.33909923 0.         0.45882108 0.01484058 0.16322003 0.73992272\n",
      " 0.73829374 0.75452291 0.35166938 0.35227695]\n"
     ]
    }
   ],
   "source": [
    "#### 15. Create random vector of size 10 and replace the maximum value by 0 (★★☆)\n",
    "#`hint: argmax`\n",
    "r5 = np.random.random(10)\n",
    "r5[r5.argmax()] = 0\n",
    "print(r5)\n"
   ]
  },
  {
   "cell_type": "code",
   "execution_count": 143,
   "metadata": {},
   "outputs": [
    {
     "name": "stdout",
     "output_type": "stream",
     "text": [
      "[[ 0.19366765  0.09165844 -0.27476536  0.55487851  0.03027406  0.34226547\n",
      "  -0.12160553 -0.38603672 -0.26025751 -0.17007901]]\n"
     ]
    }
   ],
   "source": [
    "#### 16. Subtract the mean of each row of a matrix (★★☆)\n",
    "#`hint: mean(axis=,keepdims=)`\n",
    "\n",
    "r7= np.random.random((1,10))\n",
    "r7b = r7-r7.mean(axis=1, keepdims=True)\n",
    "print(r7b)"
   ]
  },
  {
   "cell_type": "code",
   "execution_count": 137,
   "metadata": {},
   "outputs": [
    {
     "name": "stdout",
     "output_type": "stream",
     "text": [
      "[9995 9996 9997 9998 9999]\n",
      "[9999 9998 9997 9996 9995]\n"
     ]
    }
   ],
   "source": [
    "#### 17. How to get the n largest values of an array (★★★)\n",
    "#`Z = np.arange(10000)\n",
    "#np.random.shuffle(Z)\n",
    "#n = 5\n",
    "#hint: np.argsort | np.argpartition`\n",
    "\n",
    "Z = np.arange(10000)\n",
    "np.random.shuffle(Z)\n",
    "n = 5\n",
    "\n",
    "print (Z[np.argsort(Z)[-n:]])\n",
    "\n",
    "print (Z[np.argpartition(-Z,n)[:n]])\n",
    "\n",
    "\n"
   ]
  },
  {
   "cell_type": "code",
   "execution_count": 142,
   "metadata": {},
   "outputs": [
    {
     "name": "stdout",
     "output_type": "stream",
     "text": [
      "[[0.80948694 0.5182236  0.20018443]\n",
      " [0.2377933  0.46699823 0.14716561]\n",
      " [0.31691116 0.64768983 0.02170024]\n",
      " [0.15536854 0.90402707 0.43963785]\n",
      " [0.51894973 0.23044049 0.95372862]]\n",
      "[[0.80948694 0.5182236  0.20018443]\n",
      " [0.2377933  0.46699823 0.14716561]\n",
      " [0.31691116 0.64768983 0.02170024]\n",
      " [0.15536854 0.90402707 0.43963785]\n",
      " [0.51894973 0.23044049 0.95372862]]\n"
     ]
    }
   ],
   "source": [
    "#### 18. Create a random 5*3 matrix and replace items that are larger than 4 by their squares ( Example:  6 --> 36) \n",
    "#`hint: np.where`\n",
    "r6 = np.random.random((5,3))\n",
    "np.where(r6 >4, r6, r6**2)\n",
    "print(r6)\n",
    "\n",
    "#help(np.where)\n",
    "            \n",
    "          \n",
    "            "
   ]
  }
 ],
 "metadata": {
  "kernelspec": {
   "display_name": "Python 3 (ipykernel)",
   "language": "python",
   "name": "python3"
  },
  "language_info": {
   "codemirror_mode": {
    "name": "ipython",
    "version": 3
   },
   "file_extension": ".py",
   "mimetype": "text/x-python",
   "name": "python",
   "nbconvert_exporter": "python",
   "pygments_lexer": "ipython3",
   "version": "3.9.12"
  },
  "toc": {
   "base_numbering": 1,
   "nav_menu": {},
   "number_sections": true,
   "sideBar": true,
   "skip_h1_title": false,
   "title_cell": "Table of Contents",
   "title_sidebar": "Contents",
   "toc_cell": false,
   "toc_position": {},
   "toc_section_display": true,
   "toc_window_display": false
  }
 },
 "nbformat": 4,
 "nbformat_minor": 4
}
